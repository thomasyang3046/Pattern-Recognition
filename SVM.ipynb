{
 "cells": [
  {
   "cell_type": "code",
   "execution_count": 1,
   "id": "030f6e68",
   "metadata": {},
   "outputs": [],
   "source": [
    "import numpy as np\n",
    "import pandas as pd\n",
    "import matplotlib.pyplot as plt\n",
    "from sklearn.svm import SVC, SVR\n",
    "from sklearn.metrics import accuracy_score"
   ]
  },
  {
   "cell_type": "code",
   "execution_count": 2,
   "id": "33b8f210",
   "metadata": {},
   "outputs": [],
   "source": [
    "# Load data\n",
    "x_train = np.load(\"x_train.npy\")\n",
    "y_train = np.load(\"y_train.npy\")\n",
    "x_test = np.load(\"x_test.npy\")\n",
    "y_test = np.load(\"y_test.npy\")"
   ]
  },
  {
   "cell_type": "code",
   "execution_count": 3,
   "id": "9acd5ad3",
   "metadata": {},
   "outputs": [
    {
     "name": "stdout",
     "output_type": "stream",
     "text": [
      "(7000, 300)\n",
      "(7000,)\n",
      "(3000, 300)\n"
     ]
    }
   ],
   "source": [
    "# 7000 data with 300 features\n",
    "print(x_train.shape)\n",
    "print(y_train.shape)\n",
    "print(x_test.shape)"
   ]
  },
  {
   "cell_type": "code",
   "execution_count": 4,
   "id": "49cff2a9",
   "metadata": {},
   "outputs": [
    {
     "name": "stdout",
     "output_type": "stream",
     "text": [
      "[0 1]\n"
     ]
    }
   ],
   "source": [
    "# It's a binary classification problem \n",
    "print(np.unique(y_train))"
   ]
  },
  {
   "cell_type": "markdown",
   "id": "5dac9b8a",
   "metadata": {},
   "source": [
    "Q1"
   ]
  },
  {
   "cell_type": "code",
   "execution_count": 5,
   "id": "35155f7c",
   "metadata": {},
   "outputs": [],
   "source": [
    "def cross_validation(x_train, y_train, k=5):\n",
    "    \n",
    "    # Do not modify the function name and always take 'x_train, y_train, k' as the inputs.\n",
    "\n",
    "    # TODO HERE\n",
    "    #Store each fold \n",
    "    kfold_data = [] \n",
    "    #Shuffle each data point\n",
    "    shuffle_index = np.array(range(0, len(x_train)))\n",
    "    np.random.seed(0)\n",
    "    np.random.shuffle(shuffle_index)\n",
    "    #Divide the number of samples for each fold\n",
    "    fold_sizes = (len(x_train)//k) * np.ones(k, dtype=np.int_)\n",
    "    fold_sizes[:len(x_train) % k] += 1\n",
    "    #Start to divide the dataset into K subsets\n",
    "    current = 0\n",
    "    for fold_size in fold_sizes:\n",
    "        start, stop = current, current + fold_size\n",
    "        val_indices = shuffle_index[start:stop]\n",
    "        train_indices = np.concatenate((shuffle_index[:start], shuffle_index[stop:]))\n",
    "        kfold_data.append([train_indices, val_indices])   \n",
    "        current = stop\n",
    "    return kfold_data"
   ]
  },
  {
   "cell_type": "code",
   "execution_count": 6,
   "id": "3024aefb",
   "metadata": {},
   "outputs": [
    {
     "name": "stdout",
     "output_type": "stream",
     "text": [
      "--------------------k=2--------------------\n",
      "Split:1, Training index: [ 5 14  9  7 16 11  3  0 15 12], Validation index: [18  1 19  8 10 17  6 13  4  2], Validation size: 10\n",
      "Split:2, Training index: [18  1 19  8 10 17  6 13  4  2], Validation index: [ 5 14  9  7 16 11  3  0 15 12], Validation size: 10\n",
      "--------------------k=3--------------------\n",
      "Split:1, Training index: [13  4  2  5 14  9  7 16 11  3  0 15 12], Validation index: [18  1 19  8 10 17  6], Validation size: 7\n",
      "Split:2, Training index: [18  1 19  8 10 17  6 16 11  3  0 15 12], Validation index: [13  4  2  5 14  9  7], Validation size: 7\n",
      "Split:3, Training index: [18  1 19  8 10 17  6 13  4  2  5 14  9  7], Validation index: [16 11  3  0 15 12], Validation size: 6\n",
      "--------------------k=4--------------------\n",
      "Split:1, Training index: [17  6 13  4  2  5 14  9  7 16 11  3  0 15 12], Validation index: [18  1 19  8 10], Validation size: 5\n",
      "Split:2, Training index: [18  1 19  8 10  5 14  9  7 16 11  3  0 15 12], Validation index: [17  6 13  4  2], Validation size: 5\n",
      "Split:3, Training index: [18  1 19  8 10 17  6 13  4  2 11  3  0 15 12], Validation index: [ 5 14  9  7 16], Validation size: 5\n",
      "Split:4, Training index: [18  1 19  8 10 17  6 13  4  2  5 14  9  7 16], Validation index: [11  3  0 15 12], Validation size: 5\n",
      "--------------------k=5--------------------\n",
      "Split:1, Training index: [10 17  6 13  4  2  5 14  9  7 16 11  3  0 15 12], Validation index: [18  1 19  8], Validation size: 4\n",
      "Split:2, Training index: [18  1 19  8  4  2  5 14  9  7 16 11  3  0 15 12], Validation index: [10 17  6 13], Validation size: 4\n",
      "Split:3, Training index: [18  1 19  8 10 17  6 13  9  7 16 11  3  0 15 12], Validation index: [ 4  2  5 14], Validation size: 4\n",
      "Split:4, Training index: [18  1 19  8 10 17  6 13  4  2  5 14  3  0 15 12], Validation index: [ 9  7 16 11], Validation size: 4\n",
      "Split:5, Training index: [18  1 19  8 10 17  6 13  4  2  5 14  9  7 16 11], Validation index: [ 3  0 15 12], Validation size: 4\n"
     ]
    }
   ],
   "source": [
    "X = np.arange(20)\n",
    "\n",
    "kf= cross_validation(X, y_train=None , k=2)\n",
    "print(\"--------------------k=2--------------------\")\n",
    "for i, (train_index, val_index) in enumerate(kf):\n",
    "    print(\"Split:%s, Training index: %s, Validation index: %s, Validation size: %s\" % (i+1, train_index, val_index,len(val_index)))\n",
    "kf= cross_validation(X, y_train=None , k=3)\n",
    "print(\"--------------------k=3--------------------\")\n",
    "for i, (train_index, val_index) in enumerate(kf):\n",
    "    print(\"Split:%s, Training index: %s, Validation index: %s, Validation size: %s\" % (i+1, train_index, val_index,len(val_index)))\n",
    "kf= cross_validation(X, y_train=None , k=4)\n",
    "print(\"--------------------k=4--------------------\")\n",
    "for i, (train_index, val_index) in enumerate(kf):\n",
    "    print(\"Split:%s, Training index: %s, Validation index: %s, Validation size: %s\" % (i+1, train_index, val_index,len(val_index)))\n",
    "kf= cross_validation(X, y_train=None , k=5)\n",
    "print(\"--------------------k=5--------------------\")\n",
    "for i, (train_index, val_index) in enumerate(kf):\n",
    "    print(\"Split:%s, Training index: %s, Validation index: %s, Validation size: %s\" % (i+1, train_index, val_index,len(val_index)))\n"
   ]
  },
  {
   "cell_type": "code",
   "execution_count": 7,
   "id": "26b8b79e",
   "metadata": {},
   "outputs": [],
   "source": [
    "kfold_data = cross_validation(x_train, y_train, k=10)\n",
    "assert len(kfold_data) == 10 # should contain 10 fold of data\n",
    "assert len(kfold_data[0]) == 2 # each element should contain train fold and validation fold\n",
    "assert kfold_data[0][1].shape[0] == 700 # The number of data in each validation fold should equal to training data divieded by K"
   ]
  },
  {
   "cell_type": "markdown",
   "id": "4355f905",
   "metadata": {},
   "source": [
    "K-Fold Example"
   ]
  },
  {
   "cell_type": "code",
   "execution_count": 8,
   "id": "52a49ebf",
   "metadata": {},
   "outputs": [
    {
     "name": "stdout",
     "output_type": "stream",
     "text": [
      "Split: 1, Training index: [ 0  1  2  3  4  5  6  7  9 12 13 14 15 16 17 19], Validation index: [ 8 10 11 18]\n",
      "Split: 2, Training index: [ 0  1  2  3  4  5  6  7  8 10 11 14 15 16 17 18], Validation index: [ 9 12 13 19]\n",
      "Split: 3, Training index: [ 2  4  5  6  7  8  9 10 11 12 13 14 16 17 18 19], Validation index: [ 0  1  3 15]\n",
      "Split: 4, Training index: [ 0  1  3  7  8  9 10 11 12 13 14 15 16 17 18 19], Validation index: [2 4 5 6]\n",
      "Split: 5, Training index: [ 0  1  2  3  4  5  6  8  9 10 11 12 13 15 18 19], Validation index: [ 7 14 16 17]\n"
     ]
    }
   ],
   "source": [
    "from sklearn.model_selection import KFold\n",
    "\n",
    "X = np.arange(20)\n",
    "\n",
    "kf = KFold(n_splits=5, shuffle=True)\n",
    "kfold_data= []\n",
    "for i, (train_index, val_index) in enumerate(kf.split(X)):\n",
    "    print(\"Split: %s, Training index: %s, Validation index: %s\" % (i+1, train_index, val_index))\n",
    "    kfold_data.append([train_index, val_index])"
   ]
  },
  {
   "cell_type": "code",
   "execution_count": 9,
   "id": "42eba83d",
   "metadata": {},
   "outputs": [],
   "source": [
    "assert len(kfold_data) == 5 # should contain 5 fold of data\n",
    "assert len(kfold_data[0]) == 2 # each element should contains index of training fold and validation fold\n",
    "assert kfold_data[0][1].shape[0] == 4 # The number of data in each validation fold should equal to training data divieded by K"
   ]
  },
  {
   "cell_type": "markdown",
   "id": "d8607e00",
   "metadata": {},
   "source": [
    "Q2"
   ]
  },
  {
   "cell_type": "code",
   "execution_count": 10,
   "id": "cde55863",
   "metadata": {},
   "outputs": [],
   "source": [
    "# (Example) Using SVC from sklearn\n",
    "\n",
    "clf = SVC(C=1.0, gamma=0.01, kernel='rbf')"
   ]
  },
  {
   "cell_type": "code",
   "execution_count": 11,
   "id": "5eb2c652",
   "metadata": {},
   "outputs": [],
   "source": [
    "best_c, best_gamma = None, None\n",
    "\n",
    "# TODO HERE\n",
    "# k-Flod Cross Validation and Grid Search\n",
    "K_fold = cross_validation(x_train, y_train, k=5)\n",
    "maximum_score = -1\n",
    "result = []\n",
    "\n",
    "for C in [0.01, 0.1, 1, 10, 100, 1000, 10000]:\n",
    "    round_acc = []\n",
    "    for g in [0.0001, 0.001, 0.01, 0.1, 1, 10, 100, 1000]:\n",
    "        average_score = []\n",
    "        for _ , fold_data in enumerate(K_fold):\n",
    "            clf = SVC(C=C, kernel='rbf', gamma=g)\n",
    "            clf.fit(x_train[fold_data[0]], y_train[fold_data[0]])\n",
    "            y_pred = clf.predict(x_train[fold_data[1]])\n",
    "            score = accuracy_score(y_pred, y_train[fold_data[1]])\n",
    "            average_score.append(score)\n",
    "        score = np.mean(average_score)\n",
    "        round_acc.append(round(score, 2))\n",
    "        if score > maximum_score:\n",
    "            maximum_score = score\n",
    "            best_c, best_gamma = C, g\n",
    "    result.append(round_acc)\n",
    "\n",
    "best_parameters=(best_c, best_gamma)"
   ]
  },
  {
   "cell_type": "code",
   "execution_count": 12,
   "id": "3a147396",
   "metadata": {},
   "outputs": [
    {
     "name": "stdout",
     "output_type": "stream",
     "text": [
      "(best_c, best_gamma) is  (1, 0.0001)\n"
     ]
    }
   ],
   "source": [
    "print(\"(best_c, best_gamma) is \", best_parameters)"
   ]
  },
  {
   "cell_type": "markdown",
   "id": "d1a36dd9",
   "metadata": {},
   "source": [
    "Q3"
   ]
  },
  {
   "cell_type": "code",
   "execution_count": 13,
   "id": "7552f9f5",
   "metadata": {},
   "outputs": [
    {
     "data": {
      "image/png": "[encoded data removed]",
      "text/plain": [
       "<Figure size 640x480 with 2 Axes>"
      ]
     },
     "metadata": {},
     "output_type": "display_data"
    }
   ],
   "source": [
    "# Plot the grid search results of your SVM\n",
    "\n",
    "# TODO HERE\n",
    "xlabel = [0.0001, 0.001, 0.01, 0.1, 1, 10, 100, 1000]\n",
    "ylabel = [0.01, 0.1, 1, 10, 100, 1000, 10000]\n",
    "fig = plt.figure()\n",
    "ax = fig.add_subplot(111)\n",
    "ax.set_yticks(range(len(ylabel)))\n",
    "ax.set_yticklabels(ylabel)\n",
    "ax.set_xticks(range(len(xlabel)))\n",
    "ax.set_xticklabels(xlabel)\n",
    "ax.grid(which=\"minor\", color=\"w\", linestyle='-', linewidth=3)\n",
    "data = np.array(result)\n",
    "for x in range(data.shape[0]):\n",
    "    for y in range(data.shape[1]):\n",
    "        text = ax.text(y, x, data[x, y],ha=\"center\", va=\"center\", color=\"w\")\n",
    "img = ax.imshow(data, cmap=plt.cm.coolwarm)\n",
    "plt.colorbar(img)\n",
    "plt.title(\"Hyperparameter GridSearch\")\n",
    "plt.xlabel(\"Gamma Parameter\")\n",
    "plt.ylabel(\"C Parameter\")\n",
    "plt.show()\n"
   ]
  },
  {
   "cell_type": "markdown",
   "id": "ac26c703",
   "metadata": {},
   "source": [
    "Q4"
   ]
  },
  {
   "cell_type": "code",
   "execution_count": 14,
   "id": "69dc1e3b",
   "metadata": {},
   "outputs": [
    {
     "name": "stdout",
     "output_type": "stream",
     "text": [
      "Accuracy score:  0.995\n"
     ]
    }
   ],
   "source": [
    "# Do Not Modify Below\n",
    "\n",
    "best_model = SVC(C=best_parameters[0], gamma=best_parameters[1], kernel='rbf')\n",
    "best_model.fit(x_train, y_train)\n",
    "\n",
    "y_pred = best_model.predict(x_test)\n",
    "\n",
    "print(\"Accuracy score: \", accuracy_score(y_pred, y_test))\n",
    "\n",
    "# If your accuracy here > 0.9 then you will get full credit (20 points)."
   ]
  }
 ],
 "metadata": {
  "kernelspec": {
   "display_name": "Python 3 (ipykernel)",
   "language": "python",
   "name": "python3"
  },
  "language_info": {
   "codemirror_mode": {
    "name": "ipython",
    "version": 3
   },
   "file_extension": ".py",
   "mimetype": "text/x-python",
   "name": "python",
   "nbconvert_exporter": "python",
   "pygments_lexer": "ipython3",
   "version": "3.9.13"
  }
 },
 "nbformat": 4,
 "nbformat_minor": 5
}
